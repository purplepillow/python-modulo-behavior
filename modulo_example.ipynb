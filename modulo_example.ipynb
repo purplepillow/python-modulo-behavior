{
 "cells": [
  {
   "cell_type": "code",
   "execution_count": 22,
   "metadata": {},
   "outputs": [],
   "source": [
    "import math"
   ]
  },
  {
   "cell_type": "markdown",
   "metadata": {},
   "source": [
    "### Modulo equation that Python uses\n",
    "`mod = a - math.floor(a/b) * b`\n",
    "\n",
    "**evaluating `-2.4 % 6` becomes**"
   ]
  },
  {
   "cell_type": "code",
   "execution_count": 39,
   "metadata": {},
   "outputs": [
    {
     "data": {
      "text/plain": [
       "3.6"
      ]
     },
     "execution_count": 39,
     "metadata": {},
     "output_type": "execute_result"
    }
   ],
   "source": [
    "-2.4 - math.floor(-2.4/6) * 6"
   ]
  },
  {
   "cell_type": "code",
   "execution_count": 38,
   "metadata": {},
   "outputs": [
    {
     "data": {
      "text/plain": [
       "3.6"
      ]
     },
     "execution_count": 38,
     "metadata": {},
     "output_type": "execute_result"
    }
   ],
   "source": [
    "# confirmed with\n",
    "-2.4 % 6"
   ]
  },
  {
   "cell_type": "markdown",
   "metadata": {},
   "source": [
    "**But evaluating `0 - 2.4 % 6` becomes**"
   ]
  },
  {
   "cell_type": "code",
   "execution_count": 33,
   "metadata": {},
   "outputs": [
    {
     "data": {
      "text/plain": [
       "-2.4"
      ]
     },
     "execution_count": 33,
     "metadata": {},
     "output_type": "execute_result"
    }
   ],
   "source": [
    "0 - 2.4 % 6\n",
    "# the result is "
   ]
  },
  {
   "source": [
    "I think the difference is:  \n",
    "- In the former, the minus in front of 2.4 is being treated as a unary operator.  \n",
    "In [docs.python.org](https://docs.python.org/3/reference/expressions.html#operator-precedence), section `6.17. Operator Precedence`, it explains that unary gets precedence over modulo.\n",
    "- In the latter, the minus between the zero and 2.4 is being treated as subtraction.  \n",
    "Per Python's Operator Precedence, modulo has precedence over addition/\n",
    "subtraction.\n"
   ],
   "cell_type": "markdown",
   "metadata": {}
  }
 ],
 "metadata": {
  "kernelspec": {
   "display_name": "Python 3",
   "language": "python",
   "name": "python3"
  },
  "language_info": {
   "codemirror_mode": {
    "name": "ipython",
    "version": 3
   },
   "file_extension": ".py",
   "mimetype": "text/x-python",
   "name": "python",
   "nbconvert_exporter": "python",
   "pygments_lexer": "ipython3",
   "version": "3.8.3"
  }
 },
 "nbformat": 4,
 "nbformat_minor": 4
}
